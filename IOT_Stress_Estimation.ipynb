{
  "cells": [
    {
      "cell_type": "markdown",
      "metadata": {
        "id": "QFJNiPjXg1D1"
      },
      "source": [
        "DATASET CREATION"
      ]
    },
    {
      "cell_type": "code",
      "execution_count": 15,
      "metadata": {
        "colab": {
          "base_uri": "https://localhost:8080/"
        },
        "id": "5DJ_topHR6AL",
        "outputId": "bb5d2bdb-e125-4967-8e80-5b1caaf97cef"
      },
      "outputs": [
        {
          "name": "stdout",
          "output_type": "stream",
          "text": [
            "Requirement already satisfied: pandas in d:\\chatbot\\.venv\\lib\\site-packages (2.2.3)\n",
            "Requirement already satisfied: numpy>=1.26.0 in d:\\chatbot\\.venv\\lib\\site-packages (from pandas) (2.2.4)\n",
            "Requirement already satisfied: python-dateutil>=2.8.2 in d:\\chatbot\\.venv\\lib\\site-packages (from pandas) (2.9.0.post0)\n",
            "Requirement already satisfied: pytz>=2020.1 in d:\\chatbot\\.venv\\lib\\site-packages (from pandas) (2025.2)\n",
            "Requirement already satisfied: tzdata>=2022.7 in d:\\chatbot\\.venv\\lib\\site-packages (from pandas) (2025.2)\n",
            "Requirement already satisfied: six>=1.5 in d:\\chatbot\\.venv\\lib\\site-packages (from python-dateutil>=2.8.2->pandas) (1.17.0)\n",
            "Note: you may need to restart the kernel to use updated packages.\n",
            "Requirement already satisfied: numpy in d:\\chatbot\\.venv\\lib\\site-packages (2.2.4)\n",
            "Note: you may need to restart the kernel to use updated packages.\n",
            "Requirement already satisfied: matplotlib in d:\\chatbot\\.venv\\lib\\site-packages (3.10.1)\n",
            "Requirement already satisfied: contourpy>=1.0.1 in d:\\chatbot\\.venv\\lib\\site-packages (from matplotlib) (1.3.1)\n",
            "Requirement already satisfied: cycler>=0.10 in d:\\chatbot\\.venv\\lib\\site-packages (from matplotlib) (0.12.1)\n",
            "Requirement already satisfied: fonttools>=4.22.0 in d:\\chatbot\\.venv\\lib\\site-packages (from matplotlib) (4.56.0)\n",
            "Requirement already satisfied: kiwisolver>=1.3.1 in d:\\chatbot\\.venv\\lib\\site-packages (from matplotlib) (1.4.8)\n",
            "Requirement already satisfied: numpy>=1.23 in d:\\chatbot\\.venv\\lib\\site-packages (from matplotlib) (2.2.4)\n",
            "Requirement already satisfied: packaging>=20.0 in d:\\chatbot\\.venv\\lib\\site-packages (from matplotlib) (24.2)\n",
            "Requirement already satisfied: pillow>=8 in d:\\chatbot\\.venv\\lib\\site-packages (from matplotlib) (11.1.0)\n",
            "Requirement already satisfied: pyparsing>=2.3.1 in d:\\chatbot\\.venv\\lib\\site-packages (from matplotlib) (3.2.2)\n",
            "Requirement already satisfied: python-dateutil>=2.7 in d:\\chatbot\\.venv\\lib\\site-packages (from matplotlib) (2.9.0.post0)\n",
            "Requirement already satisfied: six>=1.5 in d:\\chatbot\\.venv\\lib\\site-packages (from python-dateutil>=2.7->matplotlib) (1.17.0)\n",
            "Note: you may need to restart the kernel to use updated packages.\n",
            "Note: you may need to restart the kernel to use updated packages.\n"
          ]
        },
        {
          "name": "stderr",
          "output_type": "stream",
          "text": [
            "ERROR: Could not find a version that satisfies the requirement glob (from versions: none)\n",
            "ERROR: No matching distribution found for glob\n"
          ]
        },
        {
          "name": "stdout",
          "output_type": "stream",
          "text": [
            "Requirement already satisfied: scikit-learn in d:\\chatbot\\.venv\\lib\\site-packages (1.6.1)\n",
            "Requirement already satisfied: numpy>=1.19.5 in d:\\chatbot\\.venv\\lib\\site-packages (from scikit-learn) (2.2.4)\n",
            "Requirement already satisfied: scipy>=1.6.0 in d:\\chatbot\\.venv\\lib\\site-packages (from scikit-learn) (1.15.2)\n",
            "Requirement already satisfied: joblib>=1.2.0 in d:\\chatbot\\.venv\\lib\\site-packages (from scikit-learn) (1.4.2)\n",
            "Requirement already satisfied: threadpoolctl>=3.1.0 in d:\\chatbot\\.venv\\lib\\site-packages (from scikit-learn) (3.6.0)\n",
            "Note: you may need to restart the kernel to use updated packages.\n",
            "Note: you may need to restart the kernel to use updated packages.\n"
          ]
        },
        {
          "name": "stderr",
          "output_type": "stream",
          "text": [
            "ERROR: Could not find a version that satisfies the requirement tensorflow (from versions: none)\n",
            "ERROR: No matching distribution found for tensorflow\n"
          ]
        },
        {
          "name": "stdout",
          "output_type": "stream",
          "text": [
            "Note: you may need to restart the kernel to use updated packages.\n"
          ]
        },
        {
          "name": "stderr",
          "output_type": "stream",
          "text": [
            "ERROR: Could not find a version that satisfies the requirement prototypical-networks (from versions: none)\n",
            "ERROR: No matching distribution found for prototypical-networks\n"
          ]
        }
      ],
      "source": [
        "%pip install pandas\n",
        "%pip install numpy\n",
        "%pip install matplotlib\n",
        "%pip install glob\n",
        "%pip install scikit-learn\n",
        "%pip install tensorflow\n",
        "%pip install prototypical-networks"
      ]
    },
    {
      "cell_type": "code",
      "execution_count": 5,
      "metadata": {
        "colab": {
          "base_uri": "https://localhost:8080/"
        },
        "id": "6nCzay8VNrZt",
        "outputId": "aca49336-a884-456b-f4e2-14b189e38b93"
      },
      "outputs": [
        {
          "name": "stderr",
          "output_type": "stream",
          "text": [
            "C:\\Users\\kisho\\AppData\\Local\\Temp\\ipykernel_22484\\1336989801.py:11: DtypeWarning: Columns (1,2,3,4,6) have mixed types. Specify dtype option on import or set low_memory=False.\n",
            "  df = pd.concat([pd.read_csv(file) for file in csv_files], ignore_index=True)\n"
          ]
        },
        {
          "name": "stdout",
          "output_type": "stream",
          "text": [
            "✅ All CSV files have been merged successfully!\n",
            "ℹ️ The final dataset contains 362740 rows and 7 columns.\n"
          ]
        }
      ],
      "source": [
        "import pandas as pd\n",
        "import glob\n",
        "\n",
        "csv_files = glob.glob(r\"Datasets\\Stress_Estimation_Datasets\\*.csv\")\n",
        "\n",
        "# Check if any CSV files were found\n",
        "if not csv_files:\n",
        "    print(\"❌ No CSV files found in the directory!\")\n",
        "else:\n",
        "    # Read and concatenate CSV files\n",
        "    df = pd.concat([pd.read_csv(file) for file in csv_files], ignore_index=True)\n",
        "\n",
        "    # Save the final dataset\n",
        "    df.to_csv(\"BPM_Data_Final.csv\", index=False)\n",
        "    \n",
        "    print(\"✅ All CSV files have been merged successfully!\")\n",
        "    print(f\"ℹ️ The final dataset contains {df.shape[0]} rows and {df.shape[1]} columns.\")"
      ]
    },
    {
      "cell_type": "code",
      "execution_count": 7,
      "metadata": {
        "colab": {
          "base_uri": "https://localhost:8080/"
        },
        "id": "I9YXgId0EUy4",
        "outputId": "ec251820-b9c3-42f4-b1d1-39709b0974f7"
      },
      "outputs": [
        {
          "name": "stderr",
          "output_type": "stream",
          "text": [
            "C:\\Users\\kisho\\AppData\\Local\\Temp\\ipykernel_22484\\824672458.py:5: DtypeWarning: Columns (1,2,3,4,6) have mixed types. Specify dtype option on import or set low_memory=False.\n",
            "  df = pd.read_csv(file_path)\n"
          ]
        },
        {
          "name": "stdout",
          "output_type": "stream",
          "text": [
            "🔍 Unique values in the last column before classification:\n",
            "['Standing' 'Rest' 'Left Fall while Standing' 'Right Fall while Standing'\n",
            " 'Forward Fall while Standing' 'Sitting' 'Left Fall while Sitting'\n",
            " 'Right Fall while Sitting' 'Forward Fall while Sitting' 'Walking' 'Relax'\n",
            " 'Anxiety' 'Sad' 'Motivate' 'Funny' 'Stress Ball' 'Hand at Rest' 'Fist'\n",
            " 'Funny ' nan 'Walking ']\n",
            "\n",
            "✅ Unique values after classification:\n",
            "['No Stress' 'Stress' 'Unknown']\n",
            "\n",
            "✅ Updated dataset saved as: updated_BPM_data.csv\n"
          ]
        }
      ],
      "source": [
        "import pandas as pd\n",
        "\n",
        "# Load the combined dataset\n",
        "file_path = \"BPM_Data_Final.csv\"\n",
        "df = pd.read_csv(file_path)\n",
        "\n",
        "# Drop datetime columns if they exist\n",
        "df.drop(columns=['datetime', 'Datetime'], errors='ignore', inplace=True)\n",
        "\n",
        "# Remove duplicate rows\n",
        "df.drop_duplicates(inplace=True)\n",
        "\n",
        "# Display all unique values in the last column before classification\n",
        "print(\"🔍 Unique values in the last column before classification:\")\n",
        "print(df['features'].unique())\n",
        "\n",
        "# Define the stress mapping\n",
        "stress_mapping = {\n",
        "    \"rest\": \"No Stress\",\n",
        "    \"standing\": \"No Stress\",\n",
        "    \"left fall while standing\": \"Stress\",\n",
        "    \"right fall while standing\": \"Stress\",\n",
        "    \"forward fall while standing\": \"Stress\",\n",
        "    \"sitting\": \"No Stress\",\n",
        "    \"left fall while sitting\": \"Stress\",\n",
        "    \"right fall while sitting\": \"Stress\",\n",
        "    \"forward fall while sitting\": \"Stress\",\n",
        "    \"walking\": \"No Stress\",\n",
        "    \"relax\": \"No Stress\",\n",
        "    \"anxiety\": \"Stress\",\n",
        "    \"sad\": \"Stress\",\n",
        "    \"motivate\": \"No Stress\",\n",
        "    \"stress ball\": \"Stress\",\n",
        "    \"hand at rest\": \"No Stress\",\n",
        "    \"fist\": \"Stress\",\n",
        "    \"funny\": \"No Stress\",\n",
        "    \"walking \": \"No Stress\"\n",
        "}\n",
        "\n",
        "df['features'] = df['features'].astype(str).str.lower().str.strip().map(stress_mapping).fillna(\"Unknown\")\n",
        "\n",
        "df = df.sort_values(by=['sys', 'dia', 'hr', 'spo2', 'features'])\n",
        "df = df.drop_duplicates(subset=['sys', 'dia', 'hr', 'spo2'], keep='first')\n",
        "\n",
        "print(\"\\n✅ Unique values after classification:\")\n",
        "print(df['features'].unique())\n",
        "\n",
        "updated_file_path = \"updated_BPM_data.csv\"\n",
        "df.to_csv(updated_file_path, index=False)\n",
        "\n",
        "print(f\"\\n✅ Updated dataset saved as: {updated_file_path}\")\n"
      ]
    },
    {
      "cell_type": "markdown",
      "metadata": {
        "id": "ySujeNWla6D5"
      },
      "source": [
        "### Random Seed"
      ]
    },
    {
      "cell_type": "markdown",
      "metadata": {
        "id": "7jpNdgNpbEuc"
      },
      "source": [
        "Random Seed Setup"
      ]
    },
    {
      "cell_type": "code",
      "execution_count": 8,
      "metadata": {
        "id": "X16bTquBa_A9"
      },
      "outputs": [],
      "source": [
        "import random\n",
        "import numpy as np\n",
        "import torch\n",
        "\n",
        "# Set random seeds for reproducibility\n",
        "SEED = 42\n",
        "random.seed(SEED)\n",
        "np.random.seed(SEED)\n",
        "torch.manual_seed(SEED)\n",
        "torch.cuda.manual_seed(SEED)\n",
        "torch.cuda.manual_seed_all(SEED)  # If using multiple GPUs\n",
        "\n",
        "# Ensure deterministic behavior in PyTorch\n",
        "torch.backends.cudnn.deterministic = True\n",
        "torch.backends.cudnn.benchmark = False\n"
      ]
    },
    {
      "cell_type": "markdown",
      "metadata": {
        "id": "zijmdnIibMs0"
      },
      "source": [
        "Random Seed in Train Test Split"
      ]
    },
    {
      "cell_type": "code",
      "execution_count": null,
      "metadata": {
        "id": "K_vu3t3abPIu"
      },
      "outputs": [
        {
          "ename": "NameError",
          "evalue": "name 'X_scaled' is not defined",
          "output_type": "error",
          "traceback": [
            "\u001b[31m---------------------------------------------------------------------------\u001b[39m",
            "\u001b[31mNameError\u001b[39m                                 Traceback (most recent call last)",
            "\u001b[36mCell\u001b[39m\u001b[36m \u001b[39m\u001b[32mIn[9]\u001b[39m\u001b[32m, line 3\u001b[39m\n\u001b[32m      1\u001b[39m \u001b[38;5;28;01mfrom\u001b[39;00m\u001b[38;5;250m \u001b[39m\u001b[34;01msklearn\u001b[39;00m\u001b[34;01m.\u001b[39;00m\u001b[34;01mmodel_selection\u001b[39;00m\u001b[38;5;250m \u001b[39m\u001b[38;5;28;01mimport\u001b[39;00m train_test_split\n\u001b[32m----> \u001b[39m\u001b[32m3\u001b[39m X_train, X_test, y_train, y_test = train_test_split(\u001b[43mX_scaled\u001b[49m, y, test_size=\u001b[32m0.2\u001b[39m, random_state=SEED, stratify=y)\n",
            "\u001b[31mNameError\u001b[39m: name 'X_scaled' is not defined"
          ]
        }
      ],
      "source": [
        "from sklearn.model_selection import train_test_split\n",
        "\n",
        "X_train, X_test, y_train, y_test = train_test_split(X_scaled, y, test_size=0.2, random_state=SEED, stratify=y)\n"
      ]
    },
    {
      "cell_type": "markdown",
      "metadata": {
        "id": "m3n9rLOMbjm_"
      },
      "source": [
        "## Random Forest Algorithm(Existing)"
      ]
    },
    {
      "cell_type": "markdown",
      "metadata": {
        "id": "hMK8w6FEboso"
      },
      "source": [
        "Random Seed for Random Forest"
      ]
    },
    {
      "cell_type": "code",
      "execution_count": 13,
      "metadata": {
        "colab": {
          "base_uri": "https://localhost:8080/"
        },
        "id": "ZCjPu-6lKc9u",
        "outputId": "19fee8e2-5f79-4c8c-e7c9-dbd313a9022b"
      },
      "outputs": [
        {
          "name": "stdout",
          "output_type": "stream",
          "text": [
            "✅ Random Forest Model Accuracy: 96.05%\n",
            "\n",
            "Classification Report:\n",
            "               precision    recall  f1-score   support\n",
            "\n",
            "         0.0       0.96      0.98      0.97      3456\n",
            "         1.0       0.96      0.94      0.95      2141\n",
            "\n",
            "    accuracy                           0.96      5597\n",
            "   macro avg       0.96      0.96      0.96      5597\n",
            "weighted avg       0.96      0.96      0.96      5597\n",
            "\n",
            "\n",
            "✅ Model saved as: stress_random_forest_model.pkl\n",
            "SYS: 120, DIA: 80, HR: 90, SpO₂: 86\n",
            "🚨 Stress Detected!\n"
          ]
        },
        {
          "name": "stderr",
          "output_type": "stream",
          "text": [
            "d:\\Chatbot\\.venv\\Lib\\site-packages\\sklearn\\utils\\validation.py:2739: UserWarning: X does not have valid feature names, but StandardScaler was fitted with feature names\n",
            "  warnings.warn(\n"
          ]
        }
      ],
      "source": [
        "# Import required libraries\n",
        "import pandas as pd\n",
        "import numpy as np\n",
        "import joblib\n",
        "from sklearn.model_selection import train_test_split\n",
        "from sklearn.preprocessing import StandardScaler\n",
        "from sklearn.ensemble import RandomForestClassifier\n",
        "from sklearn.metrics import accuracy_score, classification_report\n",
        "from scipy.spatial.distance import euclidean\n",
        "\n",
        "# Load the dataset\n",
        "file_path = \"updated_BPM_data.csv\"  # Update with actual file path\n",
        "df = pd.read_csv(file_path)\n",
        "\n",
        "# Drop unnecessary columns (datetime if present)\n",
        "df.drop(columns=['datetime', 'Datetime'], errors='ignore', inplace=True)\n",
        "\n",
        "# Convert numeric columns to proper types\n",
        "df[['sys', 'dia', 'hr', 'spo2']] = df[['sys', 'dia', 'hr', 'spo2']].apply(pd.to_numeric, errors='coerce')\n",
        "\n",
        "# Drop missing values\n",
        "df.dropna(inplace=True)\n",
        "\n",
        "# Convert categorical target variable ('features') into binary labels (0 = No Stress, 1 = Stress)\n",
        "df['features'] = df['features'].map({'No Stress': 0, 'Stress': 1})\n",
        "df.dropna(subset=['features'], inplace=True)\n",
        "\n",
        "# Split features and labels\n",
        "X = df[['sys', 'dia', 'hr', 'spo2']]\n",
        "y = df['features']\n",
        "\n",
        "# Normalize feature values\n",
        "scaler = StandardScaler()\n",
        "X_scaled = scaler.fit_transform(X)\n",
        "\n",
        "# Split into train and test sets (80% train, 20% test)\n",
        "X_train, X_test, y_train, y_test = train_test_split(X_scaled, y, test_size=0.2, random_state=42, stratify=y)\n",
        "\n",
        "# Train Random Forest model\n",
        "rf_model = RandomForestClassifier(n_estimators=100, random_state=42)\n",
        "rf_model.fit(X_train, y_train)\n",
        "\n",
        "# Make predictions\n",
        "y_pred = rf_model.predict(X_test)\n",
        "\n",
        "# Evaluate model performance\n",
        "accuracy = accuracy_score(y_test, y_pred)\n",
        "classification_rep = classification_report(y_test, y_pred)\n",
        "\n",
        "print(f\"✅ Random Forest Model Accuracy: {accuracy * 100:.2f}%\")\n",
        "print(\"\\nClassification Report:\\n\", classification_rep)\n",
        "\n",
        "# Save the trained model\n",
        "model_path = \"stress_random_forest_model.pkl\"\n",
        "joblib.dump(rf_model, model_path)\n",
        "print(f\"\\n✅ Model saved as: {model_path}\")\n",
        "\n",
        "# Few-Shot Learning Component\n",
        "\n",
        "# Dynamically store reference samples (Prototypical Learning)\n",
        "stress_samples = X_train[y_train == 1]\n",
        "no_stress_samples = X_train[y_train == 0]\n",
        "\n",
        "# Compute prototypical centers (average representations)\n",
        "proto_stress = np.mean(stress_samples, axis=0)  # Center for stress samples\n",
        "proto_no_stress = np.mean(no_stress_samples, axis=0)  # Center for no-stress samples\n",
        "\n",
        "# Function to predict stress using Few-Shot Learning principles\n",
        "def predict_stress_rf_few_shot(sys, dia, hr, spo2):\n",
        "    new_data = np.array([[sys, dia, hr, spo2]])\n",
        "    new_data_scaled = scaler.transform(new_data).flatten()  # Convert to 1D\n",
        "\n",
        "    # Get Random Forest Prediction\n",
        "    rf_prediction = rf_model.predict([new_data_scaled])[0]  # Ensure input is 2D\n",
        "\n",
        "    # Compute similarity to prototype centers\n",
        "    stress_distance = euclidean(new_data_scaled, proto_stress)\n",
        "    no_stress_distance = euclidean(new_data_scaled, proto_no_stress)\n",
        "\n",
        "    # If RF is unsure, adjust prediction using similarity\n",
        "    if rf_prediction == 0 and stress_distance < no_stress_distance:\n",
        "        return \"🚨 Stress Detected! (Few-Shot Adjusted)\"\n",
        "    elif rf_prediction == 1 and no_stress_distance < stress_distance:\n",
        "        return \"✅ No Stress. (Few-Shot Adjusted)\"\n",
        "\n",
        "    return \"🚨 Stress Detected!\" if rf_prediction == 1 else \"✅ No Stress.\"\n",
        "\n",
        "# Example test case (replace with real-time data)\n",
        "hardware_sys = 120  # Example SYS value\n",
        "hardware_dia = 80   # Example DIA value\n",
        "hardware_hr = 90    # Example HR value\n",
        "hardware_spo2 = 86  # Example SpO₂ value\n",
        "\n",
        "# Make prediction\n",
        "print(f\"SYS: {hardware_sys}, DIA: {hardware_dia}, HR: {hardware_hr}, SpO₂: {hardware_spo2}\")\n",
        "print(predict_stress_rf_few_shot(hardware_sys, hardware_dia, hardware_hr, hardware_spo2))\n"
      ]
    },
    {
      "cell_type": "markdown",
      "metadata": {
        "id": "aqnELEFBb5Eo"
      },
      "source": [
        "### FSL Implementation"
      ]
    },
    {
      "cell_type": "markdown",
      "metadata": {
        "id": "so6JBOSJgPJ9"
      },
      "source": [
        "Random Seed for FSL"
      ]
    },
    {
      "cell_type": "code",
      "execution_count": 16,
      "metadata": {
        "id": "pUmBxr2eb-yG"
      },
      "outputs": [
        {
          "ename": "ModuleNotFoundError",
          "evalue": "No module named 'prototypical_networks'",
          "output_type": "error",
          "traceback": [
            "\u001b[31m---------------------------------------------------------------------------\u001b[39m",
            "\u001b[31mModuleNotFoundError\u001b[39m                       Traceback (most recent call last)",
            "\u001b[36mCell\u001b[39m\u001b[36m \u001b[39m\u001b[32mIn[16]\u001b[39m\u001b[32m, line 1\u001b[39m\n\u001b[32m----> \u001b[39m\u001b[32m1\u001b[39m \u001b[38;5;28;01mfrom\u001b[39;00m\u001b[38;5;250m \u001b[39m\u001b[34;01mprototypical_networks\u001b[39;00m\u001b[38;5;250m \u001b[39m\u001b[38;5;28;01mimport\u001b[39;00m ProtoNet \n\u001b[32m      3\u001b[39m torch.manual_seed(SEED)\n\u001b[32m      4\u001b[39m protonet = ProtoNet().to(device)\n",
            "\u001b[31mModuleNotFoundError\u001b[39m: No module named 'prototypical_networks'"
          ]
        }
      ],
      "source": [
        "from prototypical_networks import ProtoNet \n",
        "\n",
        "torch.manual_seed(SEED)\n",
        "protonet = ProtoNet().to(device)\n"
      ]
    },
    {
      "cell_type": "code",
      "execution_count": null,
      "metadata": {
        "id": "heOycUM6I31p"
      },
      "outputs": [],
      "source": [
        "# Install PyTorch (if not installed in Colab)\n",
        "%pip install torch torchvision -q\n"
      ]
    },
    {
      "cell_type": "code",
      "execution_count": null,
      "metadata": {
        "colab": {
          "base_uri": "https://localhost:8080/"
        },
        "collapsed": true,
        "id": "8_HQYbnB_cZA",
        "outputId": "798907f5-851a-489e-f183-3381b86a421a"
      },
      "outputs": [
        {
          "name": "stdout",
          "output_type": "stream",
          "text": [
            "Requirement already satisfied: setfit in /usr/local/lib/python3.11/dist-packages (1.1.1)\n",
            "Requirement already satisfied: datasets>=2.15.0 in /usr/local/lib/python3.11/dist-packages (from setfit) (3.3.2)\n",
            "Requirement already satisfied: sentence-transformers>=3 in /usr/local/lib/python3.11/dist-packages (from sentence-transformers[train]>=3->setfit) (3.4.1)\n",
            "Requirement already satisfied: transformers>=4.41.0 in /usr/local/lib/python3.11/dist-packages (from setfit) (4.48.3)\n",
            "Requirement already satisfied: evaluate>=0.3.0 in /usr/local/lib/python3.11/dist-packages (from setfit) (0.4.3)\n",
            "Requirement already satisfied: huggingface_hub>=0.24.0 in /usr/local/lib/python3.11/dist-packages (from setfit) (0.28.1)\n",
            "Requirement already satisfied: scikit-learn in /usr/local/lib/python3.11/dist-packages (from setfit) (1.6.1)\n",
            "Requirement already satisfied: packaging in /usr/local/lib/python3.11/dist-packages (from setfit) (24.2)\n",
            "Requirement already satisfied: filelock in /usr/local/lib/python3.11/dist-packages (from datasets>=2.15.0->setfit) (3.17.0)\n",
            "Requirement already satisfied: numpy>=1.17 in /usr/local/lib/python3.11/dist-packages (from datasets>=2.15.0->setfit) (1.26.4)\n",
            "Requirement already satisfied: pyarrow>=15.0.0 in /usr/local/lib/python3.11/dist-packages (from datasets>=2.15.0->setfit) (18.1.0)\n",
            "Requirement already satisfied: dill<0.3.9,>=0.3.0 in /usr/local/lib/python3.11/dist-packages (from datasets>=2.15.0->setfit) (0.3.8)\n",
            "Requirement already satisfied: pandas in /usr/local/lib/python3.11/dist-packages (from datasets>=2.15.0->setfit) (2.2.2)\n",
            "Requirement already satisfied: requests>=2.32.2 in /usr/local/lib/python3.11/dist-packages (from datasets>=2.15.0->setfit) (2.32.3)\n",
            "Requirement already satisfied: tqdm>=4.66.3 in /usr/local/lib/python3.11/dist-packages (from datasets>=2.15.0->setfit) (4.67.1)\n",
            "Requirement already satisfied: xxhash in /usr/local/lib/python3.11/dist-packages (from datasets>=2.15.0->setfit) (3.5.0)\n",
            "Requirement already satisfied: multiprocess<0.70.17 in /usr/local/lib/python3.11/dist-packages (from datasets>=2.15.0->setfit) (0.70.16)\n",
            "Requirement already satisfied: fsspec<=2024.12.0,>=2023.1.0 in /usr/local/lib/python3.11/dist-packages (from fsspec[http]<=2024.12.0,>=2023.1.0->datasets>=2.15.0->setfit) (2024.10.0)\n",
            "Requirement already satisfied: aiohttp in /usr/local/lib/python3.11/dist-packages (from datasets>=2.15.0->setfit) (3.11.13)\n",
            "Requirement already satisfied: pyyaml>=5.1 in /usr/local/lib/python3.11/dist-packages (from datasets>=2.15.0->setfit) (6.0.2)\n",
            "Requirement already satisfied: typing-extensions>=3.7.4.3 in /usr/local/lib/python3.11/dist-packages (from huggingface_hub>=0.24.0->setfit) (4.12.2)\n",
            "Requirement already satisfied: torch>=1.11.0 in /usr/local/lib/python3.11/dist-packages (from sentence-transformers>=3->sentence-transformers[train]>=3->setfit) (2.5.1+cu124)\n",
            "Requirement already satisfied: scipy in /usr/local/lib/python3.11/dist-packages (from sentence-transformers>=3->sentence-transformers[train]>=3->setfit) (1.13.1)\n",
            "Requirement already satisfied: Pillow in /usr/local/lib/python3.11/dist-packages (from sentence-transformers>=3->sentence-transformers[train]>=3->setfit) (11.1.0)\n",
            "Requirement already satisfied: accelerate>=0.20.3 in /usr/local/lib/python3.11/dist-packages (from sentence-transformers[train]>=3->setfit) (1.3.0)\n",
            "Requirement already satisfied: regex!=2019.12.17 in /usr/local/lib/python3.11/dist-packages (from transformers>=4.41.0->setfit) (2024.11.6)\n",
            "Requirement already satisfied: tokenizers<0.22,>=0.21 in /usr/local/lib/python3.11/dist-packages (from transformers>=4.41.0->setfit) (0.21.0)\n",
            "Requirement already satisfied: safetensors>=0.4.1 in /usr/local/lib/python3.11/dist-packages (from transformers>=4.41.0->setfit) (0.5.3)\n",
            "Requirement already satisfied: joblib>=1.2.0 in /usr/local/lib/python3.11/dist-packages (from scikit-learn->setfit) (1.4.2)\n",
            "Requirement already satisfied: threadpoolctl>=3.1.0 in /usr/local/lib/python3.11/dist-packages (from scikit-learn->setfit) (3.5.0)\n",
            "Requirement already satisfied: psutil in /usr/local/lib/python3.11/dist-packages (from accelerate>=0.20.3->sentence-transformers[train]>=3->setfit) (5.9.5)\n",
            "Requirement already satisfied: aiohappyeyeballs>=2.3.0 in /usr/local/lib/python3.11/dist-packages (from aiohttp->datasets>=2.15.0->setfit) (2.4.6)\n",
            "Requirement already satisfied: aiosignal>=1.1.2 in /usr/local/lib/python3.11/dist-packages (from aiohttp->datasets>=2.15.0->setfit) (1.3.2)\n",
            "Requirement already satisfied: attrs>=17.3.0 in /usr/local/lib/python3.11/dist-packages (from aiohttp->datasets>=2.15.0->setfit) (25.1.0)\n",
            "Requirement already satisfied: frozenlist>=1.1.1 in /usr/local/lib/python3.11/dist-packages (from aiohttp->datasets>=2.15.0->setfit) (1.5.0)\n",
            "Requirement already satisfied: multidict<7.0,>=4.5 in /usr/local/lib/python3.11/dist-packages (from aiohttp->datasets>=2.15.0->setfit) (6.1.0)\n",
            "Requirement already satisfied: propcache>=0.2.0 in /usr/local/lib/python3.11/dist-packages (from aiohttp->datasets>=2.15.0->setfit) (0.3.0)\n",
            "Requirement already satisfied: yarl<2.0,>=1.17.0 in /usr/local/lib/python3.11/dist-packages (from aiohttp->datasets>=2.15.0->setfit) (1.18.3)\n",
            "Requirement already satisfied: charset-normalizer<4,>=2 in /usr/local/lib/python3.11/dist-packages (from requests>=2.32.2->datasets>=2.15.0->setfit) (3.4.1)\n",
            "Requirement already satisfied: idna<4,>=2.5 in /usr/local/lib/python3.11/dist-packages (from requests>=2.32.2->datasets>=2.15.0->setfit) (3.10)\n",
            "Requirement already satisfied: urllib3<3,>=1.21.1 in /usr/local/lib/python3.11/dist-packages (from requests>=2.32.2->datasets>=2.15.0->setfit) (2.3.0)\n",
            "Requirement already satisfied: certifi>=2017.4.17 in /usr/local/lib/python3.11/dist-packages (from requests>=2.32.2->datasets>=2.15.0->setfit) (2025.1.31)\n",
            "Requirement already satisfied: networkx in /usr/local/lib/python3.11/dist-packages (from torch>=1.11.0->sentence-transformers>=3->sentence-transformers[train]>=3->setfit) (3.4.2)\n",
            "Requirement already satisfied: jinja2 in /usr/local/lib/python3.11/dist-packages (from torch>=1.11.0->sentence-transformers>=3->sentence-transformers[train]>=3->setfit) (3.1.5)\n",
            "Requirement already satisfied: nvidia-cuda-nvrtc-cu12==12.4.127 in /usr/local/lib/python3.11/dist-packages (from torch>=1.11.0->sentence-transformers>=3->sentence-transformers[train]>=3->setfit) (12.4.127)\n",
            "Requirement already satisfied: nvidia-cuda-runtime-cu12==12.4.127 in /usr/local/lib/python3.11/dist-packages (from torch>=1.11.0->sentence-transformers>=3->sentence-transformers[train]>=3->setfit) (12.4.127)\n",
            "Requirement already satisfied: nvidia-cuda-cupti-cu12==12.4.127 in /usr/local/lib/python3.11/dist-packages (from torch>=1.11.0->sentence-transformers>=3->sentence-transformers[train]>=3->setfit) (12.4.127)\n",
            "Requirement already satisfied: nvidia-cudnn-cu12==9.1.0.70 in /usr/local/lib/python3.11/dist-packages (from torch>=1.11.0->sentence-transformers>=3->sentence-transformers[train]>=3->setfit) (9.1.0.70)\n",
            "Requirement already satisfied: nvidia-cublas-cu12==12.4.5.8 in /usr/local/lib/python3.11/dist-packages (from torch>=1.11.0->sentence-transformers>=3->sentence-transformers[train]>=3->setfit) (12.4.5.8)\n",
            "Requirement already satisfied: nvidia-cufft-cu12==11.2.1.3 in /usr/local/lib/python3.11/dist-packages (from torch>=1.11.0->sentence-transformers>=3->sentence-transformers[train]>=3->setfit) (11.2.1.3)\n",
            "Requirement already satisfied: nvidia-curand-cu12==10.3.5.147 in /usr/local/lib/python3.11/dist-packages (from torch>=1.11.0->sentence-transformers>=3->sentence-transformers[train]>=3->setfit) (10.3.5.147)\n",
            "Requirement already satisfied: nvidia-cusolver-cu12==11.6.1.9 in /usr/local/lib/python3.11/dist-packages (from torch>=1.11.0->sentence-transformers>=3->sentence-transformers[train]>=3->setfit) (11.6.1.9)\n",
            "Requirement already satisfied: nvidia-cusparse-cu12==12.3.1.170 in /usr/local/lib/python3.11/dist-packages (from torch>=1.11.0->sentence-transformers>=3->sentence-transformers[train]>=3->setfit) (12.3.1.170)\n",
            "Requirement already satisfied: nvidia-nccl-cu12==2.21.5 in /usr/local/lib/python3.11/dist-packages (from torch>=1.11.0->sentence-transformers>=3->sentence-transformers[train]>=3->setfit) (2.21.5)\n",
            "Requirement already satisfied: nvidia-nvtx-cu12==12.4.127 in /usr/local/lib/python3.11/dist-packages (from torch>=1.11.0->sentence-transformers>=3->sentence-transformers[train]>=3->setfit) (12.4.127)\n",
            "Requirement already satisfied: nvidia-nvjitlink-cu12==12.4.127 in /usr/local/lib/python3.11/dist-packages (from torch>=1.11.0->sentence-transformers>=3->sentence-transformers[train]>=3->setfit) (12.4.127)\n",
            "Requirement already satisfied: triton==3.1.0 in /usr/local/lib/python3.11/dist-packages (from torch>=1.11.0->sentence-transformers>=3->sentence-transformers[train]>=3->setfit) (3.1.0)\n",
            "Requirement already satisfied: sympy==1.13.1 in /usr/local/lib/python3.11/dist-packages (from torch>=1.11.0->sentence-transformers>=3->sentence-transformers[train]>=3->setfit) (1.13.1)\n",
            "Requirement already satisfied: mpmath<1.4,>=1.1.0 in /usr/local/lib/python3.11/dist-packages (from sympy==1.13.1->torch>=1.11.0->sentence-transformers>=3->sentence-transformers[train]>=3->setfit) (1.3.0)\n",
            "Requirement already satisfied: python-dateutil>=2.8.2 in /usr/local/lib/python3.11/dist-packages (from pandas->datasets>=2.15.0->setfit) (2.8.2)\n",
            "Requirement already satisfied: pytz>=2020.1 in /usr/local/lib/python3.11/dist-packages (from pandas->datasets>=2.15.0->setfit) (2025.1)\n",
            "Requirement already satisfied: tzdata>=2022.7 in /usr/local/lib/python3.11/dist-packages (from pandas->datasets>=2.15.0->setfit) (2025.1)\n",
            "Requirement already satisfied: six>=1.5 in /usr/local/lib/python3.11/dist-packages (from python-dateutil>=2.8.2->pandas->datasets>=2.15.0->setfit) (1.17.0)\n",
            "Requirement already satisfied: MarkupSafe>=2.0 in /usr/local/lib/python3.11/dist-packages (from jinja2->torch>=1.11.0->sentence-transformers>=3->sentence-transformers[train]>=3->setfit) (3.0.2)\n"
          ]
        }
      ],
      "source": [
        "!python -m pip install setfit"
      ]
    },
    {
      "cell_type": "markdown",
      "metadata": {
        "id": "imUDr1dKTXTc"
      },
      "source": [
        "## FewShot Learning for Stress Estimation"
      ]
    },
    {
      "cell_type": "code",
      "execution_count": null,
      "metadata": {
        "colab": {
          "base_uri": "https://localhost:8080/"
        },
        "id": "PqjCLpGfHIBH",
        "outputId": "0ff18e31-ed5e-4ff8-ef48-551ae76d586f"
      },
      "outputs": [
        {
          "name": "stdout",
          "output_type": "stream",
          "text": [
            "Epoch 1, Loss: 0.1045, Train Accuracy: 68.97%\n",
            "Epoch 2, Loss: 0.0608, Train Accuracy: 73.92%\n",
            "Epoch 3, Loss: 0.0317, Train Accuracy: 81.85%\n",
            "Epoch 4, Loss: 0.0196, Train Accuracy: 87.80%\n",
            "Epoch 5, Loss: 0.0227, Train Accuracy: 85.10%\n",
            "Epoch 6, Loss: 0.0231, Train Accuracy: 84.69%\n",
            "Epoch 7, Loss: 0.0235, Train Accuracy: 85.11%\n",
            "Epoch 8, Loss: 0.0235, Train Accuracy: 85.28%\n",
            "Epoch 9, Loss: 0.0232, Train Accuracy: 86.68%\n",
            "Epoch 10, Loss: 0.0230, Train Accuracy: 86.51%\n",
            "Epoch 11, Loss: 0.0221, Train Accuracy: 88.02%\n",
            "Epoch 12, Loss: 0.0206, Train Accuracy: 89.05%\n",
            "Epoch 13, Loss: 0.0196, Train Accuracy: 90.65%\n",
            "Epoch 14, Loss: 0.0189, Train Accuracy: 91.45%\n",
            "Epoch 15, Loss: 0.0183, Train Accuracy: 92.24%\n",
            "Epoch 16, Loss: 0.0182, Train Accuracy: 92.03%\n",
            "Epoch 17, Loss: 0.0175, Train Accuracy: 92.10%\n",
            "Epoch 18, Loss: 0.0172, Train Accuracy: 92.74%\n",
            "Epoch 19, Loss: 0.0171, Train Accuracy: 93.12%\n",
            "Epoch 20, Loss: 0.0168, Train Accuracy: 93.12%\n",
            "Epoch 21, Loss: 0.0165, Train Accuracy: 93.30%\n",
            "Epoch 22, Loss: 0.0161, Train Accuracy: 93.55%\n",
            "Epoch 23, Loss: 0.0157, Train Accuracy: 93.58%\n",
            "Epoch 24, Loss: 0.0161, Train Accuracy: 93.46%\n",
            "Epoch 25, Loss: 0.0157, Train Accuracy: 93.84%\n",
            "Epoch 26, Loss: 0.0158, Train Accuracy: 93.40%\n",
            "Epoch 27, Loss: 0.0157, Train Accuracy: 93.23%\n",
            "Epoch 28, Loss: 0.0148, Train Accuracy: 93.69%\n",
            "Epoch 29, Loss: 0.0142, Train Accuracy: 94.45%\n",
            "Epoch 30, Loss: 0.0141, Train Accuracy: 94.13%\n",
            "Epoch 31, Loss: 0.0138, Train Accuracy: 94.38%\n",
            "Epoch 32, Loss: 0.0134, Train Accuracy: 94.86%\n",
            "Epoch 33, Loss: 0.0133, Train Accuracy: 95.27%\n",
            "Epoch 34, Loss: 0.0135, Train Accuracy: 94.46%\n",
            "Epoch 35, Loss: 0.0134, Train Accuracy: 94.38%\n",
            "Epoch 36, Loss: 0.0131, Train Accuracy: 94.43%\n",
            "Epoch 37, Loss: 0.0123, Train Accuracy: 95.15%\n",
            "Epoch 38, Loss: 0.0123, Train Accuracy: 95.42%\n",
            "Epoch 39, Loss: 0.0122, Train Accuracy: 95.46%\n",
            "Epoch 40, Loss: 0.0117, Train Accuracy: 95.87%\n",
            "Epoch 41, Loss: 0.0118, Train Accuracy: 95.52%\n",
            "Epoch 42, Loss: 0.0119, Train Accuracy: 94.88%\n",
            "Epoch 43, Loss: 0.0112, Train Accuracy: 95.66%\n",
            "Epoch 44, Loss: 0.0109, Train Accuracy: 95.88%\n",
            "Epoch 45, Loss: 0.0107, Train Accuracy: 95.94%\n",
            "Epoch 46, Loss: 0.0108, Train Accuracy: 95.89%\n",
            "Epoch 47, Loss: 0.0107, Train Accuracy: 95.88%\n",
            "Epoch 48, Loss: 0.0106, Train Accuracy: 96.00%\n",
            "Epoch 49, Loss: 0.0102, Train Accuracy: 96.21%\n",
            "Epoch 50, Loss: 0.0104, Train Accuracy: 95.85%\n",
            "Epoch 51, Loss: 0.0106, Train Accuracy: 95.51%\n",
            "Epoch 52, Loss: 0.0100, Train Accuracy: 96.35%\n",
            "Epoch 53, Loss: 0.0098, Train Accuracy: 96.32%\n",
            "Epoch 54, Loss: 0.0099, Train Accuracy: 96.12%\n",
            "Epoch 55, Loss: 0.0094, Train Accuracy: 96.38%\n",
            "Epoch 56, Loss: 0.0096, Train Accuracy: 95.99%\n",
            "Epoch 57, Loss: 0.0092, Train Accuracy: 96.35%\n",
            "Epoch 58, Loss: 0.0089, Train Accuracy: 96.75%\n",
            "Epoch 59, Loss: 0.0089, Train Accuracy: 96.41%\n",
            "Epoch 60, Loss: 0.0086, Train Accuracy: 96.70%\n",
            "Epoch 61, Loss: 0.0086, Train Accuracy: 96.91%\n",
            "Epoch 62, Loss: 0.0083, Train Accuracy: 97.21%\n",
            "Epoch 63, Loss: 0.0087, Train Accuracy: 96.88%\n",
            "Epoch 64, Loss: 0.0086, Train Accuracy: 96.40%\n",
            "Epoch 65, Loss: 0.0080, Train Accuracy: 97.05%\n",
            "Epoch 66, Loss: 0.0079, Train Accuracy: 97.15%\n",
            "Epoch 67, Loss: 0.0078, Train Accuracy: 97.07%\n",
            "Epoch 68, Loss: 0.0077, Train Accuracy: 97.16%\n",
            "Epoch 69, Loss: 0.0076, Train Accuracy: 97.34%\n",
            "Epoch 70, Loss: 0.0074, Train Accuracy: 97.18%\n",
            "Epoch 71, Loss: 0.0076, Train Accuracy: 97.07%\n",
            "Epoch 72, Loss: 0.0076, Train Accuracy: 97.10%\n",
            "Epoch 73, Loss: 0.0072, Train Accuracy: 97.38%\n",
            "Epoch 74, Loss: 0.0075, Train Accuracy: 97.09%\n",
            "Epoch 75, Loss: 0.0071, Train Accuracy: 97.41%\n",
            "Epoch 76, Loss: 0.0072, Train Accuracy: 97.32%\n",
            "Epoch 77, Loss: 0.0070, Train Accuracy: 97.56%\n",
            "Epoch 78, Loss: 0.0070, Train Accuracy: 97.44%\n",
            "Epoch 79, Loss: 0.0067, Train Accuracy: 97.60%\n",
            "Epoch 80, Loss: 0.0070, Train Accuracy: 97.38%\n",
            "Epoch 81, Loss: 0.0068, Train Accuracy: 97.77%\n",
            "Epoch 82, Loss: 0.0067, Train Accuracy: 97.78%\n",
            "Epoch 83, Loss: 0.0065, Train Accuracy: 97.70%\n",
            "Epoch 84, Loss: 0.0063, Train Accuracy: 98.04%\n",
            "Epoch 85, Loss: 0.0063, Train Accuracy: 98.03%\n",
            "Epoch 86, Loss: 0.0063, Train Accuracy: 97.85%\n",
            "Epoch 87, Loss: 0.0063, Train Accuracy: 97.72%\n",
            "Epoch 88, Loss: 0.0063, Train Accuracy: 97.73%\n",
            "Epoch 89, Loss: 0.0066, Train Accuracy: 97.34%\n",
            "Epoch 90, Loss: 0.0061, Train Accuracy: 97.93%\n",
            "Epoch 91, Loss: 0.0062, Train Accuracy: 97.70%\n",
            "Epoch 92, Loss: 0.0063, Train Accuracy: 97.47%\n",
            "Epoch 93, Loss: 0.0064, Train Accuracy: 97.36%\n",
            "Epoch 94, Loss: 0.0061, Train Accuracy: 97.81%\n",
            "Early stopping triggered.\n",
            "Final Test Accuracy: 97.65%\n"
          ]
        },
        {
          "data": {
            "text/plain": [
              "0.9764903442485307"
            ]
          },
          "execution_count": 44,
          "metadata": {},
          "output_type": "execute_result"
        }
      ],
      "source": [
        "import torch\n",
        "import torch.nn as nn\n",
        "import torch.nn.functional as F\n",
        "import torch.optim as optim\n",
        "import numpy as np\n",
        "import pandas as pd\n",
        "from sklearn.model_selection import train_test_split\n",
        "from sklearn.preprocessing import StandardScaler\n",
        "from torch.utils.data import DataLoader, TensorDataset\n",
        "from sklearn.metrics import accuracy_score\n",
        "from tqdm import tqdm\n",
        "from datasets import Dataset\n",
        "from setfit import SetFitModel, Trainer\n",
        "from sentence_transformers import SentenceTransformer\n",
        "\n",
        "# Load and preprocess dataset\n",
        "file_path = \"/content/updated_BPM_data.csv\"\n",
        "df = pd.read_csv(file_path)\n",
        "df[['sys', 'dia', 'hr', 'spo2']] = df[['sys', 'dia', 'hr', 'spo2']].apply(pd.to_numeric, errors='coerce')\n",
        "df.dropna(inplace=True)\n",
        "df = df[df['features'].isin(['No Stress', 'Stress'])]\n",
        "df['features'] = df['features'].map({'No Stress': 0, 'Stress': 1})\n",
        "\n",
        "# Normalize data\n",
        "scaler = StandardScaler()\n",
        "X_scaled = scaler.fit_transform(df[['sys', 'dia', 'hr', 'spo2']])\n",
        "y = df['features'].values\n",
        "\n",
        "# Convert to PyTorch tensors\n",
        "X_tensor = torch.tensor(X_scaled, dtype=torch.float32)\n",
        "y_tensor = torch.tensor(y, dtype=torch.long)\n",
        "\n",
        "# Split data\n",
        "X_train, X_test, y_train, y_test = train_test_split(X_scaled, y, test_size=0.15, random_state=42, stratify=y)\n",
        "\n",
        "# Convert to SetFit-compatible dataset\n",
        "train_texts = [f\"sys: {x[0]}, dia: {x[1]}, hr: {x[2]}, spo2: {x[3]}\" for x in X_train]\n",
        "test_texts = [f\"sys: {x[0]}, dia: {x[1]}, hr: {x[2]}, spo2: {x[3]}\" for x in X_test]\n",
        "train_dataset = Dataset.from_dict({\"text\": train_texts, \"label\": y_train.tolist()})\n",
        "test_dataset = Dataset.from_dict({\"text\": test_texts, \"label\": y_test.tolist()})\n",
        "\n",
        "# Load a local SetFit model\n",
        "embedding_model = SentenceTransformer(\"all-MiniLM-L6-v2\")  # No Hugging Face Hub needed\n",
        "model = SetFitModel(embedding_model)\n",
        "\n",
        "# Define Improved Few-Shot Prototypical Network Classifier\n",
        "class ProtoNet(nn.Module):\n",
        "    def __init__(self, feature_dim=1024):\n",
        "        super(ProtoNet, self).__init__()\n",
        "        self.encoder = nn.Sequential(\n",
        "            nn.Linear(4, 4096),\n",
        "            nn.ReLU(),\n",
        "            nn.BatchNorm1d(4096, track_running_stats=False),\n",
        "            nn.Dropout(0.3),\n",
        "            nn.Linear(4096, 2048),\n",
        "            nn.ReLU(),\n",
        "            nn.BatchNorm1d(2048, track_running_stats=False),\n",
        "            nn.Dropout(0.3),\n",
        "            nn.Linear(2048, feature_dim),  # Ensure this is the final embedding size\n",
        "            nn.ReLU(),\n",
        "            nn.BatchNorm1d(feature_dim, track_running_stats=False)\n",
        "        )\n",
        "\n",
        "    def forward(self, x):\n",
        "        if self.training or x.shape[0] > 1:  # Normal forward for batches\n",
        "            return self.encoder(x)\n",
        "        else:\n",
        "            # Handle single sample inference correctly (skip BatchNorm issues)\n",
        "            for layer in self.encoder:\n",
        "                if isinstance(layer, nn.BatchNorm1d):\n",
        "                    continue  # Skip BatchNorm for single input\n",
        "                x = layer(x)\n",
        "            return x  # Return correctly shaped embedding\n",
        "\n",
        "\n",
        "def euclidean_distance(a, b):\n",
        "    return torch.cdist(a, b, p=2)\n",
        "\n",
        "class FocalLoss(nn.Module):\n",
        "    def __init__(self, gamma=2.0, alpha=0.25):\n",
        "        super(FocalLoss, self).__init__()\n",
        "        self.gamma = gamma\n",
        "        self.alpha = alpha\n",
        "\n",
        "    def forward(self, inputs, targets):\n",
        "        ce_loss = F.cross_entropy(inputs, targets, reduction='none')\n",
        "        p_t = torch.exp(-ce_loss)\n",
        "        focal_loss = self.alpha * (1 - p_t) ** self.gamma * ce_loss\n",
        "        return focal_loss.mean()\n",
        "\n",
        "# Initialize and Train ProtoNet\n",
        "device = \"cuda\" if torch.cuda.is_available() else \"cpu\"\n",
        "protonet = ProtoNet().to(device)\n",
        "optimizer = optim.AdamW(protonet.parameters(), lr=0.001, weight_decay=1e-5)\n",
        "scheduler = optim.lr_scheduler.ReduceLROnPlateau(optimizer, mode='min', factor=0.5, patience=5, verbose=True)\n",
        "loss_function = FocalLoss()\n",
        "\n",
        "early_stopping_patience = 10\n",
        "best_val_acc = 0\n",
        "patience_counter = 0\n",
        "\n",
        "batch_size = 64\n",
        "train_loader = DataLoader(TensorDataset(torch.tensor(X_train, dtype=torch.float32), torch.tensor(y_train, dtype=torch.long)), batch_size=batch_size, shuffle=True)\n",
        "test_loader = DataLoader(TensorDataset(torch.tensor(X_test, dtype=torch.float32), torch.tensor(y_test, dtype=torch.long)), batch_size=batch_size, shuffle=False)\n",
        "\n",
        "for epoch in range(300):  # More epochs for better convergence\n",
        "    protonet.train()\n",
        "    epoch_loss = 0.0\n",
        "    correct, total = 0, 0\n",
        "    for inputs, labels in train_loader:\n",
        "        inputs, labels = inputs.to(device), labels.to(device)\n",
        "        optimizer.zero_grad()\n",
        "        embeddings = protonet(inputs)\n",
        "        class_prototypes = torch.stack([embeddings[labels == i].mean(0) for i in torch.unique(labels) if (labels == i).sum() > 0])\n",
        "        dists = euclidean_distance(embeddings, class_prototypes)\n",
        "        loss = loss_function(-dists, labels)\n",
        "        loss.backward()\n",
        "        torch.nn.utils.clip_grad_norm_(protonet.parameters(), max_norm=1.0)\n",
        "        optimizer.step()\n",
        "        epoch_loss += loss.item()\n",
        "        preds = torch.argmin(dists, dim=1)\n",
        "        correct += (preds == labels).sum().item()\n",
        "        total += labels.size(0)\n",
        "    train_acc = correct / total\n",
        "    scheduler.step(epoch_loss)\n",
        "    print(f\"Epoch {epoch+1}, Loss: {epoch_loss/len(train_loader):.4f}, Train Accuracy: {train_acc*100:.2f}%\")\n",
        "\n",
        "    # Early stopping check\n",
        "    if train_acc > best_val_acc:\n",
        "        best_val_acc = train_acc\n",
        "        patience_counter = 0\n",
        "    else:\n",
        "        patience_counter += 1\n",
        "    if patience_counter >= early_stopping_patience:\n",
        "        print(\"Early stopping triggered.\")\n",
        "        break\n",
        "\n",
        "# Evaluate the ProtoNet model\n",
        "def evaluate_protonet(model, test_loader):\n",
        "    model.eval()\n",
        "    correct, total = 0, 0\n",
        "    with torch.no_grad():\n",
        "        for inputs, labels in test_loader:\n",
        "            inputs, labels = inputs.to(device), labels.to(device)\n",
        "            embeddings = model(inputs)\n",
        "            class_prototypes = torch.stack([embeddings[labels == i].mean(0) for i in torch.unique(labels) if (labels == i).sum() > 0])\n",
        "            dists = euclidean_distance(embeddings, class_prototypes)\n",
        "            preds = torch.argmin(dists, dim=1)\n",
        "            correct += (preds == labels).sum().item()\n",
        "            total += labels.size(0)\n",
        "    acc = correct / total\n",
        "    print(f\"Final Test Accuracy: {acc * 100:.2f}%\")\n",
        "    return acc\n",
        "\n",
        "evaluate_protonet(protonet, test_loader)"
      ]
    },
    {
      "cell_type": "code",
      "execution_count": null,
      "metadata": {
        "colab": {
          "base_uri": "https://localhost:8080/"
        },
        "id": "5hgdw2Vq5fjC",
        "outputId": "e9677e15-069b-496d-fec1-02ae902f3c6b"
      },
      "outputs": [
        {
          "name": "stdout",
          "output_type": "stream",
          "text": [
            "Model saved to protonet_model.pt\n"
          ]
        }
      ],
      "source": [
        "# Save the model state dictionary locally\n",
        "model_save_path = \"protonet_model.pt\"\n",
        "torch.save({\n",
        "    'model_state_dict': protonet.state_dict(),\n",
        "    'optimizer_state_dict': optimizer.state_dict(),\n",
        "    'scaler': scaler  # if you want to save the scaler too\n",
        "}, model_save_path)\n",
        "print(f\"Model saved to {model_save_path}\")\n"
      ]
    },
    {
      "cell_type": "markdown",
      "metadata": {
        "id": "PPree5I9f7cw"
      },
      "source": [
        "Compute Predictions on Test Data"
      ]
    },
    {
      "cell_type": "code",
      "execution_count": null,
      "metadata": {
        "id": "piRDtqBvf49L"
      },
      "outputs": [],
      "source": [
        "import torch\n",
        "\n",
        "# Set model to evaluation mode\n",
        "protonet.eval()\n",
        "\n",
        "# Store true labels & predictions\n",
        "all_preds = []\n",
        "all_true = []\n",
        "\n",
        "with torch.no_grad():\n",
        "    for inputs, labels in test_loader:\n",
        "        inputs, labels = inputs.to(device), labels.to(device)\n",
        "\n",
        "        # Get embeddings\n",
        "        embeddings = protonet(inputs)\n",
        "\n",
        "        # Compute class prototypes\n",
        "        class_prototypes = torch.stack([\n",
        "            embeddings[labels == i].mean(0) for i in torch.unique(labels)\n",
        "        ])\n",
        "\n",
        "        # Compute Euclidean distances\n",
        "        dists = euclidean_distance(embeddings, class_prototypes)\n",
        "\n",
        "        # Predict class based on closest prototype\n",
        "        preds = torch.argmin(dists, dim=1)\n",
        "\n",
        "        all_preds.extend(preds.cpu().numpy())\n",
        "        all_true.extend(labels.cpu().numpy())\n",
        "\n",
        "# Convert lists to numpy arrays\n",
        "all_preds = np.array(all_preds)\n",
        "all_true = np.array(all_true)\n"
      ]
    },
    {
      "cell_type": "code",
      "execution_count": null,
      "metadata": {
        "colab": {
          "base_uri": "https://localhost:8080/"
        },
        "id": "zuC4ZWpzf_EO",
        "outputId": "da68efc8-f4eb-4c05-b278-fcddae1d58a4"
      },
      "outputs": [
        {
          "name": "stdout",
          "output_type": "stream",
          "text": [
            "Test Accuracy: 97.65%\n"
          ]
        }
      ],
      "source": [
        "from sklearn.metrics import accuracy_score\n",
        "\n",
        "# Compute accuracy\n",
        "accuracy = accuracy_score(all_true, all_preds)\n",
        "print(f\"Test Accuracy: {accuracy * 100:.2f}%\")\n"
      ]
    },
    {
      "cell_type": "markdown",
      "metadata": {
        "id": "0HekhwqWgB35"
      },
      "source": [
        "CONFUSION MATRIX"
      ]
    },
    {
      "cell_type": "code",
      "execution_count": null,
      "metadata": {
        "colab": {
          "base_uri": "https://localhost:8080/",
          "height": 487
        },
        "id": "Hk3dUgqJgA0K",
        "outputId": "50027d2e-8a67-4c8a-8de7-ff33e80137c1"
      },
      "outputs": [
        {
          "data": {
            "image/png": "[encoded data removed]",
            "text/plain": [
              "<Figure size 600x500 with 2 Axes>"
            ]
          },
          "metadata": {},
          "output_type": "display_data"
        }
      ],
      "source": [
        "import seaborn as sns\n",
        "import matplotlib.pyplot as plt\n",
        "from sklearn.metrics import confusion_matrix\n",
        "\n",
        "# Compute confusion matrix\n",
        "cm = confusion_matrix(all_true, all_preds)\n",
        "\n",
        "# Plot confusion matrix\n",
        "plt.figure(figsize=(6, 5))\n",
        "sns.heatmap(cm, annot=True, fmt=\"d\", cmap=\"Blues\", xticklabels=[\"No Stress\", \"Stress\"], yticklabels=[\"No Stress\", \"Stress\"])\n",
        "plt.xlabel(\"Predicted Label\")\n",
        "plt.ylabel(\"True Label\")\n",
        "plt.title(\"Confusion Matrix\")\n",
        "plt.show()\n"
      ]
    },
    {
      "cell_type": "markdown",
      "metadata": {
        "id": "2MNv0FeygHik"
      },
      "source": [
        "Precision, Recall, and F1-score"
      ]
    },
    {
      "cell_type": "code",
      "execution_count": null,
      "metadata": {
        "colab": {
          "base_uri": "https://localhost:8080/"
        },
        "id": "jJBgeC3VgHFS",
        "outputId": "ded24a45-9255-4823-c653-285fb79df513"
      },
      "outputs": [
        {
          "name": "stdout",
          "output_type": "stream",
          "text": [
            "Precision: 0.98\n",
            "Recall: 0.96\n",
            "F1 Score: 0.97\n"
          ]
        }
      ],
      "source": [
        "from sklearn.metrics import precision_score, recall_score, f1_score\n",
        "\n",
        "# Compute Precision, Recall, and F1-score\n",
        "precision = precision_score(all_true, all_preds)\n",
        "recall = recall_score(all_true, all_preds)\n",
        "f1 = f1_score(all_true, all_preds)\n",
        "\n",
        "print(f\"Precision: {precision:.2f}\")\n",
        "print(f\"Recall: {recall:.2f}\")\n",
        "print(f\"F1 Score: {f1:.2f}\")\n"
      ]
    },
    {
      "cell_type": "markdown",
      "metadata": {
        "id": "96pv2acSgMA3"
      },
      "source": [
        "ROC Curve"
      ]
    },
    {
      "cell_type": "code",
      "execution_count": null,
      "metadata": {
        "colab": {
          "base_uri": "https://localhost:8080/",
          "height": 487
        },
        "id": "A9Eo34OfgLp-",
        "outputId": "8c6de529-99f8-4b44-d14b-073515f1a28b"
      },
      "outputs": [
        {
          "data": {
            "image/png": "[encoded data removed]",
            "text/plain": [
              "<Figure size 600x500 with 1 Axes>"
            ]
          },
          "metadata": {},
          "output_type": "display_data"
        }
      ],
      "source": [
        "from sklearn.metrics import roc_curve, auc\n",
        "\n",
        "# Compute ROC curve\n",
        "fpr, tpr, _ = roc_curve(all_true, all_preds)\n",
        "roc_auc = auc(fpr, tpr)\n",
        "\n",
        "# Plot ROC curve\n",
        "plt.figure(figsize=(6, 5))\n",
        "plt.plot(fpr, tpr, color='blue', lw=2, label=f'ROC Curve (AUC = {roc_auc:.2f})')\n",
        "plt.plot([0, 1], [0, 1], color='gray', linestyle='--')  # Random model\n",
        "plt.xlabel(\"False Positive Rate\")\n",
        "plt.ylabel(\"True Positive Rate\")\n",
        "plt.title(\"ROC Curve\")\n",
        "plt.legend(loc=\"lower right\")\n",
        "plt.show()\n"
      ]
    },
    {
      "cell_type": "markdown",
      "metadata": {
        "id": "88XQDwjjgTk-"
      },
      "source": [
        "Precision-Recall Curve"
      ]
    },
    {
      "cell_type": "code",
      "execution_count": null,
      "metadata": {
        "colab": {
          "base_uri": "https://localhost:8080/",
          "height": 487
        },
        "id": "9850RqhngUJy",
        "outputId": "108e2488-7729-4070-a030-e1bd5989637d"
      },
      "outputs": [
        {
          "data": {
            "image/png": "[encoded data removed]",
            "text/plain": [
              "<Figure size 600x500 with 1 Axes>"
            ]
          },
          "metadata": {},
          "output_type": "display_data"
        }
      ],
      "source": [
        "from sklearn.metrics import precision_recall_curve\n",
        "\n",
        "# Compute Precision-Recall curve\n",
        "precisions, recalls, _ = precision_recall_curve(all_true, all_preds)\n",
        "\n",
        "# Plot Precision-Recall Curve\n",
        "plt.figure(figsize=(6, 5))\n",
        "plt.plot(recalls, precisions, color='blue', lw=2, label=\"Precision-Recall Curve\")\n",
        "plt.xlabel(\"Recall\")\n",
        "plt.ylabel(\"Precision\")\n",
        "plt.title(\"Precision-Recall Curve\")\n",
        "plt.legend(loc=\"upper right\")\n",
        "plt.show()\n"
      ]
    },
    {
      "cell_type": "code",
      "execution_count": null,
      "metadata": {
        "colab": {
          "base_uri": "https://localhost:8080/"
        },
        "id": "cjYHWYKKeV5c",
        "outputId": "04f95b74-21a7-46c8-f4ad-d68eaeb30b67"
      },
      "outputs": [
        {
          "name": "stdout",
          "output_type": "stream",
          "text": [
            "Predicted Stress Level: No Stress\n"
          ]
        }
      ],
      "source": [
        "import torch\n",
        "import numpy as np\n",
        "import pandas as pd\n",
        "\n",
        "# Define your test input (example values)\n",
        "input_data = np.array([[140, 83, 122, 95]])  # Example: sys=112, dia=75, hr=65, spo2=98\n",
        "\n",
        "# Convert input to DataFrame to avoid StandardScaler warnings\n",
        "input_df = pd.DataFrame(input_data, columns=['sys', 'dia', 'hr', 'spo2'])\n",
        "\n",
        "# Apply the same StandardScaler used in training\n",
        "input_data_scaled = scaler.transform(input_df)\n",
        "\n",
        "# Convert to PyTorch tensor\n",
        "input_tensor = torch.tensor(input_data_scaled, dtype=torch.float32).to(device)\n",
        "\n",
        "# Set model to evaluation mode\n",
        "protonet.eval()\n",
        "\n",
        "# Disable BatchNorm tracking during inference\n",
        "for module in protonet.modules():\n",
        "    if isinstance(module, torch.nn.BatchNorm1d):\n",
        "        module.track_running_stats = False\n",
        "        module.momentum = None\n",
        "\n",
        "with torch.no_grad():\n",
        "    # Pass input through ProtoNet\n",
        "    input_embedding = protonet(input_tensor)\n",
        "\n",
        "    # Compute class prototypes from training data\n",
        "    all_embeddings = []\n",
        "    all_labels = []\n",
        "\n",
        "    for inputs, labels in train_loader:\n",
        "        inputs, labels = inputs.to(device), labels.to(device)\n",
        "        embeddings = protonet(inputs)\n",
        "        all_embeddings.append(embeddings)\n",
        "        all_labels.append(labels)\n",
        "\n",
        "    all_embeddings = torch.cat(all_embeddings)\n",
        "    all_labels = torch.cat(all_labels)\n",
        "\n",
        "    # Ensure embeddings have the correct dimension\n",
        "    feature_dim = input_embedding.shape[1]  # Get embedding size dynamically\n",
        "    class_prototypes = torch.stack([all_embeddings[all_labels == i].mean(0) for i in torch.unique(all_labels)])\n",
        "\n",
        "    # **Fix dimensionality mismatch**\n",
        "    if class_prototypes.shape[1] != feature_dim:\n",
        "        class_prototypes = class_prototypes[:, :feature_dim]  # Ensure same feature dimension\n",
        "\n",
        "    # Compute distances to class prototypes\n",
        "    dists = euclidean_distance(input_embedding, class_prototypes)\n",
        "\n",
        "    # Get prediction (class with minimum distance)\n",
        "    pred_class = torch.argmin(dists, dim=1).item()\n",
        "\n",
        "    # Map prediction back to class labels\n",
        "    stress_label = \"Stress\" if pred_class == 1 else \"No Stress\"\n",
        "\n",
        "print(f\"Predicted Stress Level: {stress_label}\")\n"
      ]
    },
    {
      "cell_type": "code",
      "execution_count": null,
      "metadata": {
        "colab": {
          "base_uri": "https://localhost:8080/"
        },
        "id": "jP9ZwNelRJ3Z",
        "outputId": "76cf9af6-94df-413a-9322-961ab530dd22"
      },
      "outputs": [
        {
          "name": "stdout",
          "output_type": "stream",
          "text": [
            "Predicted Stress Level: No Stress\n"
          ]
        }
      ],
      "source": [
        "import torch\n",
        "import numpy as np\n",
        "import pandas as pd\n",
        "\n",
        "# Define your test input (example values)\n",
        "input_data = np.array([[131, 83, 70, 96]])  # Example: sys=112, dia=75, hr=65, spo2=98\n",
        " # Example: sys=120, dia=80, hr=75, spo2=98\n",
        "\n",
        "# Convert input to DataFrame to avoid StandardScaler warnings\n",
        "input_df = pd.DataFrame(input_data, columns=['sys', 'dia', 'hr', 'spo2'])\n",
        "\n",
        "# Apply the same StandardScaler used in training\n",
        "input_data_scaled = scaler.transform(input_df)\n",
        "\n",
        "# Convert to PyTorch tensor\n",
        "input_tensor = torch.tensor(input_data_scaled, dtype=torch.float32).to(device)\n",
        "\n",
        "# Set model to evaluation mode\n",
        "protonet.eval()\n",
        "\n",
        "# Disable BatchNorm tracking during inference\n",
        "for module in protonet.modules():\n",
        "    if isinstance(module, torch.nn.BatchNorm1d):\n",
        "        module.track_running_stats = False\n",
        "        module.momentum = None\n",
        "\n",
        "with torch.no_grad():\n",
        "    # Pass input through ProtoNet\n",
        "    input_embedding = protonet(input_tensor)\n",
        "\n",
        "    # Compute class prototypes from training data\n",
        "    all_embeddings = []\n",
        "    all_labels = []\n",
        "\n",
        "    for inputs, labels in train_loader:\n",
        "        inputs, labels = inputs.to(device), labels.to(device)\n",
        "        embeddings = protonet(inputs)\n",
        "        all_embeddings.append(embeddings)\n",
        "        all_labels.append(labels)\n",
        "\n",
        "    all_embeddings = torch.cat(all_embeddings)\n",
        "    all_labels = torch.cat(all_labels)\n",
        "\n",
        "    # Ensure embeddings have the correct dimension\n",
        "    feature_dim = input_embedding.shape[1]  # Get embedding size dynamically\n",
        "    class_prototypes = torch.stack([all_embeddings[all_labels == i].mean(0) for i in torch.unique(all_labels)])\n",
        "\n",
        "    # **Fix dimensionality mismatch**\n",
        "    if class_prototypes.shape[1] != feature_dim:\n",
        "        class_prototypes = class_prototypes[:, :feature_dim]  # Ensure same feature dimension\n",
        "\n",
        "    # Compute distances to class prototypes\n",
        "    dists = euclidean_distance(input_embedding, class_prototypes)\n",
        "\n",
        "    # Get prediction (class with minimum distance)\n",
        "    pred_class = torch.argmin(dists, dim=1).item()\n",
        "\n",
        "    # Map prediction back to class labels\n",
        "    stress_label = \"Stress\" if pred_class == 1 else \"No Stress\"\n",
        "\n",
        "print(f\"Predicted Stress Level: {stress_label}\")\n"
      ]
    }
  ],
  "metadata": {
    "accelerator": "GPU",
    "colab": {
      "gpuType": "T4",
      "provenance": []
    },
    "kernelspec": {
      "display_name": ".venv",
      "language": "python",
      "name": "python3"
    },
    "language_info": {
      "codemirror_mode": {
        "name": "ipython",
        "version": 3
      },
      "file_extension": ".py",
      "mimetype": "text/x-python",
      "name": "python",
      "nbconvert_exporter": "python",
      "pygments_lexer": "ipython3",
      "version": "3.13.1"
    }
  },
  "nbformat": 4,
  "nbformat_minor": 0
}
